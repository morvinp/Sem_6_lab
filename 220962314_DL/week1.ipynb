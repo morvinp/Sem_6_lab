{
 "cells": [
  {
   "cell_type": "code",
   "execution_count": 1,
   "id": "f445c19c",
   "metadata": {},
   "outputs": [],
   "source": [
    "import torch"
   ]
  },
  {
   "cell_type": "code",
   "execution_count": 3,
   "id": "310849ea",
   "metadata": {},
   "outputs": [],
   "source": [
    "import torch\n",
    "import numpy as np\n",
    "\n",
    "device = torch.device(\"cuda\")\n"
   ]
  },
  {
   "cell_type": "code",
   "execution_count": 4,
   "id": "53d6f81a",
   "metadata": {},
   "outputs": [
    {
     "name": "stdout",
     "output_type": "stream",
     "text": [
      "Reshaped Tensor:\n",
      " tensor([[1, 2],\n",
      "        [3, 4]])\n",
      "Stacked Tensor:\n",
      " tensor([[1, 2],\n",
      "        [1, 2]])\n",
      "Squeezed Tensor:\n",
      " tensor([1, 2])\n",
      "Unsqueezed Tensor:\n",
      " tensor([[1],\n",
      "        [2],\n",
      "        [3],\n",
      "        [4]])\n"
     ]
    }
   ],
   "source": [
    "# Q1\n",
    "tensor_test = torch.tensor([1, 2, 3, 4])\n",
    "reshaped = torch.reshape(tensor_test,(2,2))\n",
    "print(\"Reshaped Tensor:\\n\", reshaped)\n",
    "\n",
    "tensor1 = torch.tensor([1, 2])\n",
    "tensor2 = torch.tensor([3, 4])\n",
    "stacked = torch.stack([tensor1,tensor1], dim=0)\n",
    "print(\"Stacked Tensor:\\n\", stacked)\n",
    "\n",
    "tensor_to_squeeze = torch.tensor([[[1], [2]]])\n",
    "squeezed = tensor_to_squeeze.squeeze()\n",
    "print(\"Squeezed Tensor:\\n\", squeezed)\n",
    "\n",
    "unsqueezed = tensor_test.unsqueeze(1)\n",
    "print(\"Unsqueezed Tensor:\\n\", unsqueezed)\n"
   ]
  },
  {
   "cell_type": "code",
   "execution_count": 5,
   "id": "f8def160",
   "metadata": {},
   "outputs": [
    {
     "name": "stdout",
     "output_type": "stream",
     "text": [
      "Original Tensor:\n",
      "tensor([[[ 0.7907, -0.8756,  1.7733],\n",
      "         [-0.5846, -0.3874, -0.1537]]])\n",
      "Original Shape: torch.Size([1, 2, 3])\n",
      "\n",
      "Permuted Tensor:\n",
      "tensor([[[ 0.7907, -0.8756,  1.7733]],\n",
      "\n",
      "        [[-0.5846, -0.3874, -0.1537]]])\n",
      "Permuted Shape: torch.Size([2, 1, 3])\n"
     ]
    }
   ],
   "source": [
    "#q2\n",
    "tensor = torch.randn(1, 2, 3)\n",
    "print(\"Original Tensor:\")\n",
    "print(tensor)\n",
    "print(\"Original Shape:\", tensor.shape)\n",
    "permuted_tensor = tensor.permute(1, 0, 2) # exention of transpose\n",
    "\n",
    "print(\"\\nPermuted Tensor:\")\n",
    "print(permuted_tensor)\n",
    "print(\"Permuted Shape:\", permuted_tensor.shape)\n"
   ]
  },
  {
   "cell_type": "code",
   "execution_count": 6,
   "id": "f86ab57b",
   "metadata": {},
   "outputs": [
    {
     "name": "stdout",
     "output_type": "stream",
     "text": [
      "tensor(6)\n"
     ]
    }
   ],
   "source": [
    "#q3\n",
    "tensor = torch.tensor([[1, 2, 3], [4, 5, 6], [7, 8, 9]])\n",
    "print(tensor[1][2])\n"
   ]
  },
  {
   "cell_type": "code",
   "execution_count": 7,
   "id": "5364be3a",
   "metadata": {},
   "outputs": [
    {
     "name": "stdout",
     "output_type": "stream",
     "text": [
      "tensor([1, 2, 3, 4, 5, 6, 7, 8, 9])\n",
      "[1 2 3 4 5 6 7 8 9]\n"
     ]
    }
   ],
   "source": [
    "#q4\n",
    "np_arr = np.arange(1,10)\n",
    "tensor = torch.from_numpy(np_arr)\n",
    "print(tensor)\n",
    "\n",
    "np_arr = tensor.numpy()\n",
    "print(np_arr)\n"
   ]
  },
  {
   "cell_type": "code",
   "execution_count": 8,
   "id": "92ddae75",
   "metadata": {},
   "outputs": [
    {
     "name": "stdout",
     "output_type": "stream",
     "text": [
      "tensor([[ 1.1940e+00,  6.1739e-01,  1.6811e+00, -7.3645e-01, -8.4418e-01,\n",
      "         -4.5116e-02,  3.9766e+00],\n",
      "        [-1.2754e-01,  5.9657e-01,  1.7933e+00, -7.0790e-01, -1.6980e+00,\n",
      "         -1.3694e-01,  5.2942e-01],\n",
      "        [ 2.8334e-01,  5.9107e-01,  2.4724e-01,  3.7716e-01,  5.3026e-01,\n",
      "          7.8605e-01,  1.2773e+00],\n",
      "        [ 1.1646e+00,  5.1400e-01, -1.7344e+00, -2.3281e-01,  7.3798e-01,\n",
      "          7.7033e-01,  1.2809e+00],\n",
      "        [ 8.9013e-01,  3.8340e-01, -2.0580e-03, -1.1701e+00, -1.5904e+00,\n",
      "         -5.8878e-01, -9.9941e-01],\n",
      "        [ 3.1410e-01, -7.0568e-01, -8.0475e-01,  3.5257e-01, -1.5448e+00,\n",
      "         -8.3645e-01,  2.1048e+00],\n",
      "        [ 9.1642e-01,  2.2090e-01,  2.6743e+00,  2.9931e-01, -1.9389e+00,\n",
      "         -2.9716e-01, -1.2205e+00]])\n"
     ]
    }
   ],
   "source": [
    "#q5\n",
    "mul1 = torch.randn(7,7)\n",
    "print(mul1)"
   ]
  },
  {
   "cell_type": "code",
   "execution_count": 9,
   "id": "a50c13ed",
   "metadata": {},
   "outputs": [
    {
     "name": "stdout",
     "output_type": "stream",
     "text": [
      "tensor([[-7.7923],\n",
      "        [-3.9286],\n",
      "        [-1.7422],\n",
      "        [-1.4682],\n",
      "        [-1.5763],\n",
      "        [-0.6609],\n",
      "        [ 0.1406]])\n"
     ]
    }
   ],
   "source": [
    "#q6\n",
    "mul2 = torch.randn(1,7)\n",
    "prod = torch.matmul(mul1,mul2.permute(1,0))\n",
    "print(prod)\n"
   ]
  },
  {
   "cell_type": "code",
   "execution_count": 10,
   "id": "4625df00",
   "metadata": {},
   "outputs": [
    {
     "name": "stdout",
     "output_type": "stream",
     "text": [
      "tensor([[ 2.3266],\n",
      "        [-4.7794],\n",
      "        [-0.0324],\n",
      "        [-1.1818],\n",
      "        [ 0.0959],\n",
      "        [-3.8096],\n",
      "        [ 4.1705]])\n"
     ]
    }
   ],
   "source": [
    "#q7,8\n",
    "mul1 = torch.randn(7,7).to(device)\n",
    "mul2 = torch.randn(1,7).to(device)\n",
    "prod = torch.matmul(mul1,mul2.permute(1,0))\n",
    "print(prod)\n"
   ]
  },
  {
   "cell_type": "code",
   "execution_count": 11,
   "id": "541950fd",
   "metadata": {},
   "outputs": [
    {
     "name": "stdout",
     "output_type": "stream",
     "text": [
      "tensor(4.1705)\n",
      "tensor(-4.7794)\n"
     ]
    }
   ],
   "source": [
    "#q9\n",
    "print(torch.max(prod))\n",
    "print(torch.min(prod))\n"
   ]
  },
  {
   "cell_type": "code",
   "execution_count": 12,
   "id": "9873ec54",
   "metadata": {},
   "outputs": [
    {
     "name": "stdout",
     "output_type": "stream",
     "text": [
      "tensor(1)\n",
      "tensor(6)\n"
     ]
    }
   ],
   "source": [
    "#q10\n",
    "print(torch.argmin(prod))\n",
    "print(torch.argmax(prod))\n"
   ]
  },
  {
   "cell_type": "code",
   "execution_count": 13,
   "id": "e0cf871b",
   "metadata": {},
   "outputs": [
    {
     "name": "stdout",
     "output_type": "stream",
     "text": [
      "tensor([[[[ 0.8018, -0.2344, -0.7473, -0.5955, -0.5413, -1.2182, -0.5333,\n",
      "           -0.3847, -0.0714, -0.3385]]]])\n",
      "tensor([ 0.8018, -0.2344, -0.7473, -0.5955, -0.5413, -1.2182, -0.5333, -0.3847,\n",
      "        -0.0714, -0.3385])\n"
     ]
    }
   ],
   "source": [
    "#q11\n",
    "torch.seed = 7\n",
    "ten = torch.randn(1,1,1,10)\n",
    "print(ten)\n",
    "print(ten.squeeze())"
   ]
  },
  {
   "cell_type": "code",
   "execution_count": null,
   "id": "14d4ff4c",
   "metadata": {},
   "outputs": [],
   "source": []
  }
 ],
 "metadata": {
  "kernelspec": {
   "display_name": "Python (venv)",
   "language": "python",
   "name": "venv"
  },
  "language_info": {
   "codemirror_mode": {
    "name": "ipython",
    "version": 3
   },
   "file_extension": ".py",
   "mimetype": "text/x-python",
   "name": "python",
   "nbconvert_exporter": "python",
   "pygments_lexer": "ipython3",
   "version": "3.12.3"
  }
 },
 "nbformat": 4,
 "nbformat_minor": 5
}
